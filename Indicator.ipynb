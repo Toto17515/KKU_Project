{
  "cells": [
    {
      "cell_type": "markdown",
      "metadata": {
        "id": "view-in-github",
        "colab_type": "text"
      },
      "source": [
        "<a href=\"https://colab.research.google.com/github/Toto17515/KKU_Project/blob/Data/Indicator.ipynb\" target=\"_parent\"><img src=\"https://colab.research.google.com/assets/colab-badge.svg\" alt=\"Open In Colab\"/></a>"
      ]
    },
    {
      "cell_type": "markdown",
      "metadata": {
        "id": "Mqik31Y41gjW"
      },
      "source": [
        "\n",
        "#Algorithm"
      ]
    },
    {
      "cell_type": "markdown",
      "metadata": {
        "id": "Q1UmneQgYHew"
      },
      "source": [
        "##Library"
      ]
    },
    {
      "cell_type": "code",
      "execution_count": 1,
      "metadata": {
        "id": "fIPp0pn5Ylk5",
        "colab": {
          "base_uri": "https://localhost:8080/"
        },
        "outputId": "a51a64a0-6092-4e05-e8f8-854442999b65"
      },
      "outputs": [
        {
          "output_type": "stream",
          "name": "stderr",
          "text": [
            "/usr/local/lib/python3.7/dist-packages/statsmodels/tools/_testing.py:19: FutureWarning: pandas.util.testing is deprecated. Use the functions in the public API at pandas.testing instead.\n",
            "  import pandas.util.testing as tm\n"
          ]
        }
      ],
      "source": [
        "#Basic\n",
        "import math\n",
        "import decimal\n",
        "import statsmodels\n",
        "import pandas as pd\n",
        "import numpy as np\n",
        "import matplotlib as mpl\n",
        "import statsmodels.api as sm\n",
        "from itertools import combinations\n",
        "from math import isnan, nan\n",
        "from datetime import datetime \n",
        "from matplotlib import pyplot as plt\n",
        "from scipy.optimize import curve_fit"
      ]
    },
    {
      "cell_type": "markdown",
      "metadata": {
        "id": "95hCXH3qfqgx"
      },
      "source": [
        "##Sub Function"
      ]
    },
    {
      "cell_type": "code",
      "execution_count": 2,
      "metadata": {
        "id": "lTo2H_pegu65"
      },
      "outputs": [],
      "source": [
        "#EMA\n",
        "def EMA(Close, A):\n",
        "  Close = Close.tolist()\n",
        "  if len(Close) > A-1:\n",
        "    EMA = []; ws = 0; wc = 0\n",
        "    for a in range(A-1):\n",
        "      EMA.append(float('NaN'))\n",
        "    alpha = 2/(A+1)\n",
        "    for b in range(A):\n",
        "      ws = ws + Close[b]*(1-alpha)**b\n",
        "      wc = wc + (1-alpha)**b\n",
        "    EMA.append(ws/wc)\n",
        "    for c in range(len(Close)-A):\n",
        "      EMA.append(EMA[c+A-1]+alpha*(Close[c+A]-EMA[c+A-1]))\n",
        "    if Close[len(Close)-1] > EMA[-1]: return 'Up'\n",
        "    elif Close[len(Close)-1] < EMA[-1]: return 'Down'\n",
        "    else: return 'Sideway'"
      ]
    },
    {
      "cell_type": "code",
      "execution_count": 3,
      "metadata": {
        "id": "Laqxm9y8gu8N"
      },
      "outputs": [],
      "source": [
        "#PSAR\n",
        "def PSAR(High, Low):\n",
        "  High = High.tolist()\n",
        "  Low = Low.tolist()\n",
        "  sar = [float('NaN'),float('NaN')]\n",
        "  direction = 'None'; h = 0; k = 0; d = 2; AF = 0.02\n",
        "  if len(High) == len(Low) and len(High)> 2:\n",
        "    #Begin\n",
        "    for i in range(len(High)-1):\n",
        "      if (High[i+1] > High[i] and Low[i+1] < Low[i]) or (High[i+1] < High[i] and Low[i+1] > Low[i]):\n",
        "        direction = 'Sideway'\n",
        "        sar.append(float('NaN'))\n",
        "        d += 1\n",
        "      elif  High[i+1] > High[i]:\n",
        "        direction = 'Up'\n",
        "        h = max(High[:i+d+1])\n",
        "        sar.append(min(Low[:i+1])); break\n",
        "      else:\n",
        "        direction = 'Down'\n",
        "        l = min(Low[:i+d+1])\n",
        "        sar.append(max(High[:i+1])); break\n",
        "    #PSAR\n",
        "    for j in range(len(High)-d):\n",
        "      if direction == 'Up':\n",
        "        psar = sar[j+d]+AF*(h-sar[j+d])\n",
        "        if Low[j+d] > psar: \n",
        "          sar.append(psar)\n",
        "          psar_trend = 'Up'\n",
        "          direction = 'Up'\n",
        "          if j < len(High)-d-1:\n",
        "            if h < High[j+d+1]: \n",
        "              h = High[j+d+1]\n",
        "              if AF < 0.20: AF += 0.02\n",
        "        else: \n",
        "          sar.append(h)\n",
        "          psar_trend = 'Down'\n",
        "          direction = 'Down'\n",
        "          AF = 0.02\n",
        "          if j < len(High)-d-1: l = Low[j+d+1]\n",
        "      else:\n",
        "        psar = sar[j+d]-AF*(sar[j+d]-l)\n",
        "        if High[j+d] < psar: \n",
        "          sar.append(psar)\n",
        "          psar_trend = 'Down'\n",
        "          direction = 'Down'\n",
        "          if j < len(Low)-d-1:\n",
        "            if l > Low[j+d+1]: \n",
        "              l = Low[j+d+1]\n",
        "              if AF < 0.20: AF += 0.02\n",
        "        else: \n",
        "          sar.append(l)\n",
        "          psar_trend ='Up'\n",
        "          direction = 'Up'\n",
        "          AF = 0.02   \n",
        "          if j < len(Low)-d-1: h = High[j+d+1]     \n",
        "    return psar_trend"
      ]
    },
    {
      "cell_type": "code",
      "execution_count": 4,
      "metadata": {
        "id": "GZkuX2SGgu8j"
      },
      "outputs": [],
      "source": [
        "#RSI\n",
        "def RSI(Close, B):\n",
        "  Close = Close.tolist()\n",
        "  Diff = []; Up = []; Down = []; \n",
        "  UpAVG = []; DownAVG = []; RSI = []; \n",
        "  for a in range(B):\n",
        "    RSI.append(float('NaN'))\n",
        "  for i in range(len(Close)):\n",
        "    if i > 0: Diff.append(Close[i]-Close[i-1])\n",
        "  for j in range(len(Diff)):\n",
        "    if Diff[j] > 0:\n",
        "      Up.append(Diff[j])\n",
        "      Down.append(0)\n",
        "    elif Diff[j] < 0:\n",
        "      Up.append(0)\n",
        "      Down.append(-Diff[j])\n",
        "    else:\n",
        "      Up.append(0)\n",
        "      Down.append(0)\n",
        "  UpAVG.append(sum(Up[:B])/len(Up[:B]))\n",
        "  DownAVG.append(sum(Down[:B])/len(Down[:B]))\n",
        "  for k in range(len(Diff)-B):\n",
        "    UpAVG.append((UpAVG[k]*(B-1)+Up[k+B])/B)\n",
        "    DownAVG.append((DownAVG[k]*(B-1)+Down[k+B])/B)\n",
        "  for l in range(len(UpAVG)):\n",
        "    if DownAVG[l] != 0:\n",
        "      RSI.append(100-100/(1+(UpAVG[l]/DownAVG[l])))\n",
        "    else: RSI.append(100)\n",
        "  if RSI[-1] > 50: return 'Up'\n",
        "  elif RSI[-1] < 50: return 'Down'\n",
        "  else: return 'Sideway'"
      ]
    },
    {
      "cell_type": "code",
      "execution_count": 5,
      "metadata": {
        "id": "crqBfS40gu-I"
      },
      "outputs": [],
      "source": [
        "#WPR\n",
        "def WPR(High, Low, Close, C):\n",
        "  High = High.tolist()\n",
        "  Low = Low.tolist()\n",
        "  Close = Close.tolist()\n",
        "  Highest = max(High[-C:]) \n",
        "  Lowest = min(Low[-C:])\n",
        "  WPR= (Close[len(Close)-1]-Highest)/(Highest-Lowest)*100\n",
        "  if WPR > -50: return 'Up'\n",
        "  elif WPR < -50: return 'Down'\n",
        "  else: return 'Sideway' "
      ]
    },
    {
      "cell_type": "markdown",
      "metadata": {
        "id": "5Nrp4CZCvkUG"
      },
      "source": [
        "##Main Function"
      ]
    },
    {
      "cell_type": "code",
      "execution_count": 6,
      "metadata": {
        "id": "UewjBKdHRTTi"
      },
      "outputs": [],
      "source": [
        "#Indicator\n",
        "def Indicator_Algorithm(FOREX_High, FOREX_Low, FOREX_Close, A, B, C):\n",
        "  Y1 = FOREX_High; Y2 = FOREX_Low; Y3 = FOREX_Close\n",
        "  Indicator = 'None'\n",
        "  if len(Y1) == len(Y2) == len(Y3):  \n",
        "    if EMA(Y3,A) == PSAR(Y1,Y2) == RSI(Y3,B) == WPR(Y1,Y2,Y3,C): Indicator = EMA(Y3,A)\n",
        "    else: Indicator = 'Sideway'\n",
        "    return Indicator\n",
        "  else: return 'The data size must be the same.'"
      ]
    }
  ],
  "metadata": {
    "colab": {
      "collapsed_sections": [
        "gFFyyS4tYHja",
        "Q1UmneQgYHew",
        "oXJFL0u5yhiW",
        "rUwuB8bajE6a",
        "mKSa02ZQFw2Z",
        "CFMde7-OGyE6",
        "-T890UnpHaLI",
        "L5zsXI7YIaET",
        "sEOGBEL6JSqn",
        "YTahoJE9JRM3",
        "70Q5mCNHJPju",
        "QLNdQCo_JODI",
        "8gHkh7iVJL2n"
      ],
      "name": "Indicator.ipynb",
      "toc_visible": true,
      "provenance": [],
      "mount_file_id": "1xugsFUSbrOOLfpsiLYzjrNnAF_-icaQa",
      "authorship_tag": "ABX9TyM5m128AEN5YVv7WWRb5ZJj",
      "include_colab_link": true
    },
    "kernelspec": {
      "display_name": "Python 3",
      "name": "python3"
    },
    "language_info": {
      "name": "python"
    }
  },
  "nbformat": 4,
  "nbformat_minor": 0
}