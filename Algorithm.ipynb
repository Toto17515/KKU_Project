{
  "cells": [
    {
      "cell_type": "markdown",
      "metadata": {
        "id": "view-in-github",
        "colab_type": "text"
      },
      "source": [
        "<a href=\"https://colab.research.google.com/github/Toto17515/KKU_Project/blob/Data/Algorithm.ipynb\" target=\"_parent\"><img src=\"https://colab.research.google.com/assets/colab-badge.svg\" alt=\"Open In Colab\"/></a>"
      ]
    },
    {
      "cell_type": "markdown",
      "metadata": {
        "id": "Q1UmneQgYHew"
      },
      "source": [
        "#Library"
      ]
    },
    {
      "cell_type": "code",
      "execution_count": null,
      "metadata": {
        "id": "fIPp0pn5Ylk5"
      },
      "outputs": [],
      "source": [
        "#Basic\n",
        "import math\n",
        "import decimal\n",
        "import statsmodels\n",
        "import pandas as pd\n",
        "import numpy as np\n",
        "import statsmodels.api as sm\n",
        "from itertools import combinations\n",
        "from math import isnan, nan\n",
        "from datetime import datetime "
      ]
    },
    {
      "cell_type": "markdown",
      "metadata": {
        "id": "vsaS5e-WbvwG"
      },
      "source": [
        "#Parameter"
      ]
    },
    {
      "cell_type": "markdown",
      "metadata": {
        "id": "rBDh57YtbvwH"
      },
      "source": [
        "##Maximize"
      ]
    },
    {
      "cell_type": "code",
      "execution_count": null,
      "metadata": {
        "id": "ilTzM5vMbvwI"
      },
      "outputs": [],
      "source": [
        "#EMA Indicator\n",
        "def EMAIndicator(Close, A):\n",
        "  if A > 1 and len(Close) > 1:\n",
        "    EMA = []\n",
        "    for a in range(A-1):\n",
        "      EMA.append(float('NaN'))\n",
        "    alpha = 2/(A+1)\n",
        "    ws = 0\n",
        "    wc = 0\n",
        "    for b in range(A):\n",
        "      ws = ws + Close[b]*(1-alpha)**b\n",
        "      wc = wc + (1-alpha)**b\n",
        "    EMA.append(ws/wc)\n",
        "    for c in range(len(Close)-A):\n",
        "      EMA.append(EMA[c+A-1]+alpha*(Close[c+A]-EMA[c+A-1]))\n",
        "    return EMA\n",
        "  else:\n",
        "    return print('error')  "
      ]
    },
    {
      "cell_type": "code",
      "execution_count": null,
      "metadata": {
        "id": "enJlOG-pbvwI"
      },
      "outputs": [],
      "source": [
        "#PSAR Indicator\n",
        "def PSARIndicator(High, Low):\n",
        "  sar = [float('NaN'),float('NaN')]\n",
        "  psar_trend = ['Sideway', 'Sideway']\n",
        "  direction = 'None'; h = 0; k = 0; d = 2; AF = 0.02\n",
        "  if len(High) == len(Low) and len(High)> 2:\n",
        "    #Begin\n",
        "    for i in range(len(High)-1):\n",
        "      if (High[i+1] > High[i] and Low[i+1] < Low[i]) or (High[i+1] < High[i] and Low[i+1] > Low[i]):\n",
        "        direction = 'Sideway'\n",
        "        psar_trend.append('Sideway')  \n",
        "        sar.append(float('NaN'))\n",
        "        d += 1\n",
        "      elif  High[i+1] > High[i]:\n",
        "        direction = 'Up'\n",
        "        h = max(High[:i+d+1])\n",
        "        sar.append(min(Low[:i+1])); break\n",
        "      else:\n",
        "        direction = 'Down'\n",
        "        l = min(Low[:i+d+1])\n",
        "        sar.append(max(High[:i+1])); break\n",
        "    #PSAR\n",
        "    for j in range(len(High)-d):\n",
        "      if direction == 'Up':\n",
        "        psar = sar[j+d]+AF*(h-sar[j+d])\n",
        "        if Low[j+d] > psar: \n",
        "          sar.append(psar)\n",
        "          psar_trend.append('Up')\n",
        "          direction = 'Up'\n",
        "          if j < len(High)-d-1:\n",
        "            if h < High[j+d+1]: \n",
        "              h = High[j+d+1]\n",
        "              if AF <= 0.20: AF += 0.02\n",
        "        else: \n",
        "          sar.append(h)\n",
        "          psar_trend.append('Down')\n",
        "          direction = 'Down'\n",
        "          AF = 0.02\n",
        "          if j < len(High)-d-1: l = Low[j+d+1]\n",
        "      else:\n",
        "        psar = sar[j+d]-AF*(sar[j+d]-l)\n",
        "        if High[j+d] < psar: \n",
        "          sar.append(psar)\n",
        "          psar_trend.append('Down')\n",
        "          direction = 'Down'\n",
        "          if j < len(Low)-d-1:\n",
        "            if l > Low[j+d+1]: \n",
        "              l = Low[j+d+1]\n",
        "              if AF <= 0.20: AF += 0.02\n",
        "        else: \n",
        "          sar.append(l)\n",
        "          psar_trend.append('Up')\n",
        "          direction = 'Up'\n",
        "          AF = 0.02   \n",
        "          if j < len(Low)-d-1: h = High[j+d+1]     \n",
        "    return psar_trend\n",
        "  else:\n",
        "    return print('error')  "
      ]
    },
    {
      "cell_type": "code",
      "execution_count": null,
      "metadata": {
        "id": "S-IHuNzDbvwJ"
      },
      "outputs": [],
      "source": [
        "#RSI Indicator\n",
        "def RSIIndicator(Close, B):\n",
        "  Diff = []; Up = []; Down = []; \n",
        "  UpAVG = []; DownAVG = []; RSI = []; \n",
        "  for a in range(B):\n",
        "    RSI.append(float('NaN'))\n",
        "  for i in range(len(Close)):\n",
        "    if i > 0: Diff.append(Close[i]-Close[i-1])\n",
        "  for j in range(len(Diff)):\n",
        "    if Diff[j] > 0:\n",
        "      Up.append(Diff[j])\n",
        "      Down.append(0)\n",
        "    elif Diff[j] < 0:\n",
        "      Up.append(0)\n",
        "      Down.append(-Diff[j])\n",
        "    else:\n",
        "      Up.append(0)\n",
        "      Down.append(0)\n",
        "  UpAVG.append(sum(Up[:B])/len(Up[:B]))\n",
        "  DownAVG.append(sum(Down[:B])/len(Down[:B]))\n",
        "  for k in range(len(Diff)-B):\n",
        "    UpAVG.append((UpAVG[k]*(B-1)+Up[k+B])/B)\n",
        "    DownAVG.append((DownAVG[k]*(B-1)+Down[k+B])/B)\n",
        "  for l in range(len(UpAVG)):\n",
        "    RSI.append(100-100/(1+(UpAVG[l]/DownAVG[l])))\n",
        "  return RSI"
      ]
    },
    {
      "cell_type": "code",
      "execution_count": null,
      "metadata": {
        "id": "M1gdnuUhbvwK"
      },
      "outputs": [],
      "source": [
        "#WPR Indicator\n",
        "def WPRIndicator(High, Low, Close, C):\n",
        "  WPR = []; \n",
        "  for a in range(C-1):\n",
        "     WPR.append(float('NaN'))\n",
        "  for i in range(len(Close)):\n",
        "    if i >= C-1: \n",
        "      Highest = max(High[i-C+1:i+1]) \n",
        "      Lowest = min(Low[i-C+1:i+1])\n",
        "      WPR.append((Close[i]-Highest)/(Highest-Lowest)*100)\n",
        "  return WPR"
      ]
    },
    {
      "cell_type": "code",
      "execution_count": null,
      "metadata": {
        "id": "W9LJqA2zbvwL"
      },
      "outputs": [],
      "source": [
        "#logic #ปรับ\n",
        "def parameter(Y1, Y2, Y3, A, B, C):\n",
        "  Trend = []\n",
        "  ema = EMAIndicator(Y3, A); ema_trend = []\n",
        "  for i in range(len(ema)):\n",
        "    if Y3[i] > ema[i]: ema_trend.append('Up')\n",
        "    elif Y3[i] < ema[i]: ema_trend.append('Down')\n",
        "    else: ema_trend.append('Sideway')\n",
        "  psar_trend = PSARIndicator(Y1, Y2)\n",
        "  rsi = RSIIndicator(Y3, B); rsi_trend = []\n",
        "  for j in range(len(rsi)):\n",
        "    if rsi[i] > 50 : rsi_trend.append('Up')\n",
        "    elif rsi[j] < 50: rsi_trend.append('Down')\n",
        "    else: rsi_trend.append('Sideway')\n",
        "  wpr = WPRIndicator(Y1, Y2, Y3, C); wpr_trend = []\n",
        "  for k in range(len(wpr)):\n",
        "    if wpr[k] > -50: wpr_trend.append('Up')\n",
        "    elif wpr[k] < -50: wpr_trend.append('Down')\n",
        "    else: wpr_trend.append('Sideway')\n",
        "  for l in range(len(Y3)):\n",
        "    if ema_trend[l] == psar_trend[l] == rsi_trend[l] == wpr_trend[l]: \n",
        "      Trend.append(ema_trend[l])\n",
        "    else: Trend.append('Sideway')\n",
        "  Real = ['Sideway']\n",
        "  for m in range(len(Y3)):\n",
        "    if m > 0:\n",
        "      if Y3[m] > Y3[m-1]:\n",
        "        Real.append('Up')\n",
        "      elif Y3[m] < Y3[m-1]:\n",
        "        Real.append('Down')\n",
        "      else:\n",
        "        Real.append('Sideway')\n",
        "  T = 0; N = 0\n",
        "  for n in range(len(Trend)):\n",
        "    if Trend[n] != 'Sideway':\n",
        "      N+=1\n",
        "      if Real[n] == Trend[n]: T+=1\n",
        "  if N == 0: return 0\n",
        "  else: return T/N*100"
      ]
    },
    {
      "cell_type": "code",
      "execution_count": null,
      "metadata": {
        "id": "PYA_my43bvwM"
      },
      "outputs": [],
      "source": [
        "def Maximize(FOREX_High, FOREX_Low,FOREX_Close, listA, listB, listC):\n",
        "  MAX = {}\n",
        "  Y1 = FOREX_High.values.tolist(); Y2 = FOREX_Low.values.tolist(); Y3 = FOREX_Close.values.tolist()\n",
        "  for a in listA:\n",
        "    text1 = str('Parameter values ')\n",
        "    text2 = str(', A = ') + str(a)\n",
        "    for b in listB:\n",
        "      text3 = str(', B = ') + str(b)\n",
        "      for c in listC: \n",
        "        text4 = str(' and C = ') + str(c)\n",
        "        precision = parameter(Y1, Y2, Y3, a, b, c)\n",
        "        text5 = str(' give a maximum precision of ') + str(precision) + str(' %.')\n",
        "        MAX[precision] = text1+text2+text3+text4+text5\n",
        "  return print(MAX[max(MAX.keys())])                   "
      ]
    },
    {
      "cell_type": "markdown",
      "metadata": {
        "id": "Mqik31Y41gjW"
      },
      "source": [
        "\n",
        "#Algorithm"
      ]
    },
    {
      "cell_type": "markdown",
      "metadata": {
        "id": "95hCXH3qfqgx"
      },
      "source": [
        "##Sub Function"
      ]
    },
    {
      "cell_type": "markdown",
      "metadata": {
        "id": "y1kftrp-_FtK"
      },
      "source": [
        "###Indicator"
      ]
    },
    {
      "cell_type": "code",
      "execution_count": null,
      "metadata": {
        "id": "lTo2H_pegu65"
      },
      "outputs": [],
      "source": [
        "#EMA\n",
        "def EMA(Close, A):\n",
        "  Close = Close.tolist()\n",
        "  if len(Close) > A-1:\n",
        "    EMA = []; ws = 0; wc = 0\n",
        "    for a in range(A-1):\n",
        "      EMA.append(float('NaN'))\n",
        "    alpha = 2/(A+1)\n",
        "    for b in range(A):\n",
        "      ws = ws + Close[b]*(1-alpha)**b\n",
        "      wc = wc + (1-alpha)**b\n",
        "    EMA.append(ws/wc)\n",
        "    for c in range(len(Close)-A):\n",
        "      EMA.append(EMA[c+A-1]+alpha*(Close[c+A]-EMA[c+A-1]))\n",
        "    if Close[len(Close)-1] > EMA[-1]: return 'Up'\n",
        "    elif Close[len(Close)-1] < EMA[-1]: return 'Down'\n",
        "    else: return 'Sideway'"
      ]
    },
    {
      "cell_type": "code",
      "execution_count": null,
      "metadata": {
        "id": "Laqxm9y8gu8N"
      },
      "outputs": [],
      "source": [
        "#PSAR\n",
        "def PSAR(High, Low):\n",
        "  High = High.tolist()\n",
        "  Low = Low.tolist()\n",
        "  sar = [float('NaN'),float('NaN')]\n",
        "  direction = 'None'; h = 0; k = 0; d = 2; AF = 0.02\n",
        "  if len(High) == len(Low) and len(High)> 2:\n",
        "    #Begin\n",
        "    for i in range(len(High)-1):\n",
        "      if (High[i+1] > High[i] and Low[i+1] < Low[i]) or (High[i+1] < High[i] and Low[i+1] > Low[i]):\n",
        "        direction = 'Sideway'\n",
        "        sar.append(float('NaN'))\n",
        "        d += 1\n",
        "      elif  High[i+1] > High[i]:\n",
        "        direction = 'Up'\n",
        "        h = max(High[:i+d+1])\n",
        "        sar.append(min(Low[:i+1])); break\n",
        "      else:\n",
        "        direction = 'Down'\n",
        "        l = min(Low[:i+d+1])\n",
        "        sar.append(max(High[:i+1])); break\n",
        "    #PSAR\n",
        "    for j in range(len(High)-d):\n",
        "      if direction == 'Up':\n",
        "        psar = sar[j+d]+AF*(h-sar[j+d])\n",
        "        if Low[j+d] > psar: \n",
        "          sar.append(psar)\n",
        "          psar_trend = 'Up'\n",
        "          direction = 'Up'\n",
        "          if j < len(High)-d-1:\n",
        "            if h < High[j+d+1]: \n",
        "              h = High[j+d+1]\n",
        "              if AF <= 0.20: AF += 0.02\n",
        "        else: \n",
        "          sar.append(h)\n",
        "          psar_trend = 'Down'\n",
        "          direction = 'Down'\n",
        "          AF = 0.02\n",
        "          if j < len(High)-d-1: l = Low[j+d+1]\n",
        "      else:\n",
        "        psar = sar[j+d]-AF*(sar[j+d]-l)\n",
        "        if High[j+d] < psar: \n",
        "          sar.append(psar)\n",
        "          psar_trend = 'Down'\n",
        "          direction = 'Down'\n",
        "          if j < len(Low)-d-1:\n",
        "            if l > Low[j+d+1]: \n",
        "              l = Low[j+d+1]\n",
        "              if AF <= 0.20: AF += 0.02\n",
        "        else: \n",
        "          sar.append(l)\n",
        "          psar_trend ='Up'\n",
        "          direction = 'Up'\n",
        "          AF = 0.02   \n",
        "          if j < len(Low)-d-1: h = High[j+d+1]     \n",
        "    return psar_trend"
      ]
    },
    {
      "cell_type": "code",
      "execution_count": null,
      "metadata": {
        "id": "GZkuX2SGgu8j"
      },
      "outputs": [],
      "source": [
        "#RSI\n",
        "def RSI(Close, B):\n",
        "  Close = Close.tolist()\n",
        "  Diff = []; Up = []; Down = []; \n",
        "  UpAVG = []; DownAVG = []; RSI = []; \n",
        "  for a in range(B):\n",
        "    RSI.append(float('NaN'))\n",
        "  for i in range(len(Close)):\n",
        "    if i > 0: Diff.append(Close[i]-Close[i-1])\n",
        "  for j in range(len(Diff)):\n",
        "    if Diff[j] > 0:\n",
        "      Up.append(Diff[j])\n",
        "      Down.append(0)\n",
        "    elif Diff[j] < 0:\n",
        "      Up.append(0)\n",
        "      Down.append(-Diff[j])\n",
        "    else:\n",
        "      Up.append(0)\n",
        "      Down.append(0)\n",
        "  UpAVG.append(sum(Up[:B])/len(Up[:B]))\n",
        "  DownAVG.append(sum(Down[:B])/len(Down[:B]))\n",
        "  for k in range(len(Diff)-B):\n",
        "    UpAVG.append((UpAVG[k]*(B-1)+Up[k+B])/B)\n",
        "    DownAVG.append((DownAVG[k]*(B-1)+Down[k+B])/B)\n",
        "  for l in range(len(UpAVG)):\n",
        "    if DownAVG[l] != 0:\n",
        "      RSI.append(100-100/(1+(UpAVG[l]/DownAVG[l])))\n",
        "    else: RSI.append(100)\n",
        "  if RSI[-1] > 50: return 'Up'\n",
        "  elif RSI[-1] < 50: return 'Down'\n",
        "  else: return 'Sideway'"
      ]
    },
    {
      "cell_type": "code",
      "execution_count": null,
      "metadata": {
        "id": "crqBfS40gu-I"
      },
      "outputs": [],
      "source": [
        "#WPR\n",
        "def WPR(High, Low, Close, C):\n",
        "  High = High.tolist()\n",
        "  Low = Low.tolist()\n",
        "  Close = Close.tolist()\n",
        "  Highest = max(High[-C:]) \n",
        "  Lowest = min(Low[-C:])\n",
        "  WPR= (Close[len(Close)-1]-Highest)/(Highest-Lowest)*100\n",
        "  if WPR > -50: return 'Up'\n",
        "  elif WPR < -50: return 'Down'\n",
        "  else: return 'Sideway' "
      ]
    },
    {
      "cell_type": "markdown",
      "metadata": {
        "id": "NeclZKmc_YeI"
      },
      "source": [
        "###Seasonal"
      ]
    },
    {
      "cell_type": "code",
      "execution_count": null,
      "metadata": {
        "id": "OXOUJM0a_YeJ"
      },
      "outputs": [],
      "source": [
        "#ความยาวฤดูกาล\n",
        "def Length_Seasonal(data, freq):\n",
        "  SeasonalDecompose = statsmodels.tsa.seasonal.seasonal_decompose(data, freq=freq).seasonal\n",
        "  LowSeasonal = []\n",
        "  for i in SeasonalDecompose:\n",
        "    if i <= min(SeasonalDecompose)+(max(SeasonalDecompose)-min(SeasonalDecompose))/5:\n",
        "      LowSeasonal.append(i)\n",
        "    else: LowSeasonal.append(float('NaN'))\n",
        "  MinSeasonal = []\n",
        "  MIN = {}\n",
        "  for i in range(len(LowSeasonal)):\n",
        "    if not isnan(LowSeasonal[i]): MIN[LowSeasonal[i]] = i+1\n",
        "    else:\n",
        "        if MIN:\n",
        "          MinSeasonal.append(MIN)\n",
        "          MIN = {}\n",
        "  indexLength = []\n",
        "  for i in MinSeasonal: \n",
        "    indexLength.append(i[min(i)])\n",
        "  Length = []\n",
        "  for i in range(len(indexLength)):\n",
        "    if i > 0: Length.append(abs(indexLength[i]-indexLength[i-1]))\n",
        "  s = round((sum(Length)/len(Length)))\n",
        "  if len(Length) == 0 : return 0\n",
        "  else: \n",
        "    if s < 260: return s\n",
        "    else: return 0"
      ]
    },
    {
      "cell_type": "markdown",
      "metadata": {
        "id": "5xBVn-63_YeK"
      },
      "source": [
        "###Order"
      ]
    },
    {
      "cell_type": "code",
      "execution_count": null,
      "metadata": {
        "id": "xvT4I1fEEV54"
      },
      "outputs": [],
      "source": [
        "#check function\n",
        "def function(data):\n",
        "  x = []; y = []\n",
        "  for i in range(math.floor(len(data)/10)):\n",
        "    if i  > 0:\n",
        "      x.append(i)\n",
        "      y.append(data[i])\n",
        "  if y:\n",
        "    def EXP(x,a,b,c):\n",
        "      return a**x+b*x+c\n",
        "    def SIN(x,a,b,c):\n",
        "      return a*np.sin(x)/x+b*x+c\n",
        "    exp = curve_fit(EXP, x, y)\n",
        "    sin = curve_fit(SIN, x, y)\n",
        "    e = round(exp[0][0],2)\n",
        "    if e == 1: e = 0\n",
        "    s = round(sin[0][0],2)\n",
        "    if round(sin[0][0]) != 0  and round(sin[0][1]) != 0: s = 0\n",
        "    if e == 0 and s == 0: return False\n",
        "    else: return True\n",
        "  else: return False"
      ]
    },
    {
      "cell_type": "code",
      "execution_count": null,
      "metadata": {
        "id": "WK9WetlB1mhv"
      },
      "outputs": [],
      "source": [
        "x = []\n",
        "for i in range(65):\n",
        "  x.append(i)"
      ]
    },
    {
      "cell_type": "code",
      "execution_count": null,
      "metadata": {
        "id": "BY-4MWR61jPk"
      },
      "outputs": [],
      "source": [
        "from numpy.random.mtrand import randint\n",
        "y = []\n",
        "for i in x:\n",
        "  y.append(((0.5**i)+randint(0,1)))"
      ]
    },
    {
      "cell_type": "code",
      "execution_count": null,
      "metadata": {
        "colab": {
          "base_uri": "https://localhost:8080/"
        },
        "id": "dreCUAK5172j",
        "outputId": "36857c18-bfba-46e4-9de0-578480709be7"
      },
      "outputs": [
        {
          "output_type": "execute_result",
          "data": {
            "text/plain": [
              "[<matplotlib.lines.Line2D at 0x7f16c3d1fd90>]"
            ]
          },
          "metadata": {},
          "execution_count": 14
        },
        {
          "output_type": "display_data",
          "data": {
            "text/plain": [
              "<Figure size 432x288 with 1 Axes>"
            ],
            "image/png": "[encoded data removed]"
          },
          "metadata": {
            "needs_background": "light"
          }
        }
      ],
      "source": [
        "plt.plot(x,y)"
      ]
    },
    {
      "cell_type": "code",
      "execution_count": null,
      "metadata": {
        "colab": {
          "base_uri": "https://localhost:8080/"
        },
        "id": "ihcVlJnE2-i-",
        "outputId": "2ce06d1a-0b99-4d43-86ca-d6b2b643087b"
      },
      "outputs": [
        {
          "output_type": "execute_result",
          "data": {
            "text/plain": [
              "[<matplotlib.lines.Line2D at 0x7f16865632d0>]"
            ]
          },
          "metadata": {},
          "execution_count": 15
        },
        {
          "output_type": "display_data",
          "data": {
            "text/plain": [
              "<Figure size 432x288 with 1 Axes>"
            ],
            "image/png": "[encoded data removed]"
          },
          "metadata": {
            "needs_background": "light"
          }
        }
      ],
      "source": [
        "plt.plot(x[:7],y[:7])"
      ]
    },
    {
      "cell_type": "code",
      "execution_count": null,
      "metadata": {
        "colab": {
          "base_uri": "https://localhost:8080/"
        },
        "id": "w3f5J5Fk17pu",
        "outputId": "3e656942-c920-43c3-a8b5-b09e551f7097"
      },
      "outputs": [
        {
          "output_type": "execute_result",
          "data": {
            "text/plain": [
              "True"
            ]
          },
          "metadata": {},
          "execution_count": 16
        }
      ],
      "source": [
        "function(y)"
      ]
    },
    {
      "cell_type": "code",
      "execution_count": null,
      "metadata": {
        "id": "WF31Erfaxnrx"
      },
      "outputs": [],
      "source": [
        "#แปลงข้อมูลให้ Stationary (i(D))\n",
        "def found_D(data, s):\n",
        "  if s != 0:\n",
        "    data_s = []\n",
        "    for i in range(len(data)):\n",
        "      if s*(i+1)-1 <= len(data)-1:\n",
        "        data_s.append(data.values.tolist()[s*(i+1)-1])\n",
        "    p_value = sm.tsa.stattools.adfuller(data_s)[1]\n",
        "    D = 0\n",
        "    while (p_value >= 0.05):\n",
        "      D+=1\n",
        "      data = data.diff(s).dropna()\n",
        "      data_s = []\n",
        "      for i in range(len(data)):\n",
        "        if s*(i+1)-1 <= len(data)-1:\n",
        "          data_s.append(data.values.tolist()[s*(i+1)-1])\n",
        "      p_value = sm.tsa.stattools.adfuller(data_s)[1]\n",
        "    return  D\n",
        "  else: return 0"
      ]
    },
    {
      "cell_type": "code",
      "execution_count": null,
      "metadata": {
        "id": "k3xRb310xsTk"
      },
      "outputs": [],
      "source": [
        "#แปลงข้อมูลให้ Stationary (i(d))\n",
        "def found_d(data):\n",
        "  p_value = sm.tsa.stattools.adfuller(data)[1]\n",
        "  d = 1\n",
        "  while (p_value >= 0.05):\n",
        "    d+=1\n",
        "    data = data.diff(1).dropna()\n",
        "    p_value = sm.tsa.stattools.adfuller(data)[1]\n",
        "  return d"
      ]
    },
    {
      "cell_type": "code",
      "execution_count": null,
      "metadata": {
        "id": "tt9KiRLB_YeM"
      },
      "outputs": [],
      "source": [
        "#หา Autoregressive process of order p:\n",
        "def found_p(data,s):\n",
        "  p = []\n",
        "  if s == 0: s = len(data)/4 -1\n",
        "  acf = sm.graphics.tsa.acf(data, nlags= math.floor(len(data)/4))\n",
        "  if function(acf):\n",
        "    pacf = sm.graphics.tsa.pacf(data, nlags= math.floor(len(data)/4))\n",
        "    for i in range(len(pacf)):\n",
        "      if i != 0 and i < 5:\n",
        "        if pacf[i] > 2/math.sqrt(len(pacf)):\n",
        "          if i <= s: p.append(i)\n",
        "        if pacf[i] < -2/math.sqrt(len(pacf)):\n",
        "          if i  <= s: p.append(i)\n",
        "  if p == []: p = [0]\n",
        "  return p"
      ]
    },
    {
      "cell_type": "code",
      "execution_count": null,
      "metadata": {
        "id": "a1WFgcqg_YeN"
      },
      "outputs": [],
      "source": [
        "#หา Autoregressive process of order P \n",
        "def found_P(data, s):\n",
        "  P = []; S_acf = []\n",
        "  if s != 0:\n",
        "    acf = sm.graphics.tsa.acf(data, nlags= math.floor(len(data)/4))\n",
        "    for i in [1,2,3]:\n",
        "      if s*(i+1) <= len(acf) and i != 0:\n",
        "        S_acf.append([s*i])\n",
        "    if function(S_acf):\n",
        "      pacf = sm.graphics.tsa.pacf(data, nlags= math.floor(len(data)/4))\n",
        "      for i in range(len(pacf)):\n",
        "        if s*(i+1) <= len(pacf) and i != 0 and i < 5:\n",
        "          if pacf[s*i] > 2/math.sqrt(len(pacf)):\n",
        "            P.append(i)\n",
        "          if pacf[s*i] < -2/math.sqrt(len(pacf)):\n",
        "            P.append(i)\n",
        "  if P == []: P = [0]\n",
        "  return P"
      ]
    },
    {
      "cell_type": "code",
      "execution_count": null,
      "metadata": {
        "id": "wnDbMvY3_YeO"
      },
      "outputs": [],
      "source": [
        "#หา Moving Average Process of order q\n",
        "def found_q(data, s):\n",
        "  q = []\n",
        "  if s == 0: s = len(data)/4\n",
        "  pacf = sm.graphics.tsa.pacf(data, nlags= math.floor(len(data)/4))\n",
        "  if function(pacf):\n",
        "    acf = sm.graphics.tsa.acf(data, nlags= math.floor(len(data)/4))\n",
        "    for i in range(len(pacf)):\n",
        "      if i != 0 and i < 5:\n",
        "        if pacf[i] > 2/math.sqrt(len(pacf)):\n",
        "          if i <= s: q.append(i)\n",
        "        if pacf[i] < -2/math.sqrt(len(data)):\n",
        "          if i  <= s: q.append(i)\n",
        "  if q == []: q = [0]\n",
        "  return q"
      ]
    },
    {
      "cell_type": "code",
      "execution_count": null,
      "metadata": {
        "id": "XDnYv06Q_YeP"
      },
      "outputs": [],
      "source": [
        "#หา Moving Average Process of order Q\n",
        "def found_Q(data,s):\n",
        "  Q = []; S_pacf = []\n",
        "  if s != 0:\n",
        "    pacf = sm.graphics.tsa.pacf(data, nlags= math.floor(len(data)/4))\n",
        "    for i in range(len(pacf)):\n",
        "      if s*(i+1) <= len(pacf) and i != 0:\n",
        "        S_pacf.append([s*i])\n",
        "    if function(S_pacf):\n",
        "      acf = sm.graphics.tsa.acf(data)\n",
        "      for i in range(len(acf)):\n",
        "        if s*(i+1) <= len(acf) and i != 0 and i < 5:\n",
        "          if acf[s*i] > 2/math.sqrt(len(data)):\n",
        "            Q.append(i)\n",
        "          if acf[s*i] < -2/math.sqrt(len(data)):\n",
        "            Q.append(i)\n",
        "  if Q == []: Q = [0]\n",
        "  return Q"
      ]
    },
    {
      "cell_type": "code",
      "execution_count": null,
      "metadata": {
        "id": "yLZTW1rR_YeQ"
      },
      "outputs": [],
      "source": [
        "# set order arimax\n",
        "def order_arimax(data, s, d):\n",
        "  orders = []\n",
        "  p = found_p(data, s)\n",
        "  q = found_q(data, s)\n",
        "  for i in p:\n",
        "    for j in q:\n",
        "      orders.append([i,d,j])\n",
        "  return orders"
      ]
    },
    {
      "cell_type": "code",
      "execution_count": null,
      "metadata": {
        "id": "B-dobvsH_YeR"
      },
      "outputs": [],
      "source": [
        "# set order sarimax\n",
        "def order_sarimax(data, s, D):\n",
        "  orders = []\n",
        "  P = found_P(data, s)\n",
        "  Q = found_Q(data, s)\n",
        "  for i in P:\n",
        "    for j in Q:\n",
        "      orders.append([i,D,j,s])\n",
        "  return orders"
      ]
    },
    {
      "cell_type": "code",
      "execution_count": null,
      "metadata": {
        "id": "y0GCqxml_YeV"
      },
      "outputs": [],
      "source": [
        "#set Order\n",
        "def order(y, freq):\n",
        "  o = []\n",
        "  s = Length_Seasonal(y,freq)\n",
        "  y = np.log(y).dropna()\n",
        "  d = found_d(y)\n",
        "  if d != 0: \n",
        "    for i in range(d):\n",
        "      y =y.diff(1).dropna()\n",
        "  D = found_D(y, s)\n",
        "  if D != 0: \n",
        "    for i in range(D):\n",
        "      y = y.diff(s).dropna() \n",
        "  oa = order_arimax(y, s, d)\n",
        "  os = order_sarimax(y, s, D)\n",
        "  for I in oa:\n",
        "    for J in os:\n",
        "      o.append([I,J])\n",
        "  return o"
      ]
    },
    {
      "cell_type": "markdown",
      "metadata": {
        "id": "CgCvJ_RD_YeR"
      },
      "source": [
        "###Adjust"
      ]
    },
    {
      "cell_type": "code",
      "execution_count": null,
      "metadata": {
        "id": "ECrtPWkH_YeS"
      },
      "outputs": [],
      "source": [
        "#หา B\n",
        "def B(r,p):\n",
        "  b_sum = 0\n",
        "  for i in range(len(r)-1):\n",
        "    if r[i] < p[i+1]: \n",
        "      if r[i+1] >= r[i]: b_sum += p[i+1]-r[i]\n",
        "  return b_sum/(len(r)-1)"
      ]
    },
    {
      "cell_type": "code",
      "execution_count": null,
      "metadata": {
        "id": "sQlwS-0W_YeS"
      },
      "outputs": [],
      "source": [
        "#หา A\n",
        "def A(r,p):\n",
        "  a_sum = 0\n",
        "  for i in range(len(r)-1):\n",
        "    if r[i] > p[i+1]: \n",
        "      if r[i+1] <= r[i]: a_sum += p[i+1]-r[i]\n",
        "  return a_sum/(len(r)-1)"
      ]
    },
    {
      "cell_type": "markdown",
      "metadata": {
        "id": "tXOPW8qIlSfD"
      },
      "source": [
        "###Precision"
      ]
    },
    {
      "cell_type": "code",
      "execution_count": null,
      "metadata": {
        "id": "WjNk2JwxlU-e"
      },
      "outputs": [],
      "source": [
        "#Precision\n",
        "def precision(y,x,order_arimax,order_sarimax):\n",
        "  model = statsmodels.tsa.statespace.sarimax.SARIMAX(endog=y,order=order_arimax,seasonal_order=order_sarimax,initialization='approximate_diffuse').fit()\n",
        "  n = len(y); r = y[:n-1].values; p = model.predict(1,n-1).values\n",
        "  T = 0; N = 0\n",
        "  a = A(r,p); b = B(r,p)\n",
        "  for i in range(len(r)-1):\n",
        "    if p[i+1] > r[i]: \n",
        "      if p[i+1] + a > r[i]:\n",
        "        if r[i+1] > r[i] : T+=1; N+=1\n",
        "        else: N+=1\n",
        "    if p[i+1] < r[i]: \n",
        "      if p[i+1] + b > r[i]:\n",
        "        if r[i+1] > r[i] : T+=1; N+=1\n",
        "        else: N+=1\n",
        "  return [T/N,a,b]"
      ]
    },
    {
      "cell_type": "markdown",
      "metadata": {
        "id": "5Nrp4CZCvkUG"
      },
      "source": [
        "##Main Function"
      ]
    },
    {
      "cell_type": "code",
      "execution_count": null,
      "metadata": {
        "id": "UewjBKdHRTTi"
      },
      "outputs": [],
      "source": [
        "#Indicator\n",
        "def Indicator_Algorithm(FOREX_High, FOREX_Low, FOREX_Close, A, B, C):\n",
        "  Y1 = FOREX_High; Y2 = FOREX_Low; Y3 = FOREX_Close\n",
        "  Indicator = 'None'\n",
        "  if len(Y1) == len(Y2) == len(Y3):  \n",
        "    if EMA(Y3,A) == PSAR(Y1,Y2) == RSI(Y3,B) == WPR(Y1,Y2,Y3,C): Indicator = EMA(Y3,A)\n",
        "    else: Indicator = 'Sideway'\n",
        "    return Indicator\n",
        "  else: return 'The data size must be the same.'"
      ]
    },
    {
      "cell_type": "code",
      "execution_count": null,
      "metadata": {
        "id": "2BE3S5aDqSrQ"
      },
      "outputs": [],
      "source": [
        "#SARIMAX\n",
        "def SARIMAX_Algorithm(FOREX_High, FOREX_Low,FOREX_Close, \n",
        "                      XAUUSD_Close, WTIUSD_Close, STOCK1_Close, STOCK2_Close,freq = 20):\n",
        "  if len(FOREX_Close) >= 32:  \n",
        "    Y1 = FOREX_High.reset_index(drop=True).drop(0).reset_index(drop=True)\n",
        "    Y2 = FOREX_Low.reset_index(drop=True).drop(0).reset_index(drop=True)\n",
        "    Y3 = FOREX_Close.reset_index(drop=True).drop(0).reset_index(drop=True)\n",
        "    X1 = XAUUSD_Close.reset_index(drop=True).drop(len(XAUUSD_Close)-1).reset_index(drop=True)\n",
        "    X2 = WTIUSD_Close.reset_index(drop=True).drop(len(XAUUSD_Close)-1).reset_index(drop=True)\n",
        "    X3 = STOCK1_Close.reset_index(drop=True).drop(len(STOCK1_Close)-1).reset_index(drop=True)\n",
        "    X4 = STOCK2_Close.reset_index(drop=True).drop(len(STOCK2_Close)-1).reset_index(drop=True)\n",
        "    x =   inde_variable = pd.DataFrame({'X1':X1,'X2':X2,'X3':X3,'X4':X4})\n",
        "    SARIMAX = 'None'\n",
        "    if len(Y1) == len(Y2) == len(Y3) == len(X1) == len(X2) == len(X3) == len(X4):  \n",
        "      for i in order(Y3, freq):\n",
        "        Max = {}\n",
        "        prec = precision(Y3, x, i[0],i[1])\n",
        "        Max[prec[0]] = [i[0], i[1], prec[1], prec[2]]\n",
        "      if max(Max.keys()) == 0:\n",
        "        return 'Sideway'\n",
        "      else:\n",
        "        para = Max[max(Max.keys())]\n",
        "        MODEL = statsmodels.tsa.statespace.sarimax.SARIMAX(endog=Y3,exog=x,order=para[0],seasonal_order=para[1],initialization='approximate_diffuse')\n",
        "        forecast = MODEL.fit().forecast(1, exog =x[-1:].values.tolist()).values[0]\n",
        "        real = Y3[-1:].values[0]\n",
        "        if forecast > real:\n",
        "          if forecast + para[2] > real: SARIMAX = 'Up'\n",
        "          else: SARIMAX = 'Sideway'\n",
        "        if forecast < real:\n",
        "          if forecast + para[3] < real: SARIMAX = 'Down'\n",
        "          else: SARIMAX = 'Sideway'\n",
        "      return SARIMAX\n",
        "    else: return 'The data size must be the same.'\n",
        "  else: return 'Not enough data.'"
      ]
    },
    {
      "cell_type": "code",
      "execution_count": null,
      "metadata": {
        "id": "Qs4eFjhKQeWS"
      },
      "outputs": [],
      "source": [
        "#All \n",
        "def All_Algorithm(FOREX_High, FOREX_Low,FOREX_Close, \n",
        "                  XAUUSD_Close, WTIUSD_Close, STOCK1_Close, STOCK2_Close,\n",
        "                  A, B, C, freq = 20):\n",
        "  if len(FOREX_Close) >= 32:  \n",
        "    Y1 = FOREX_High.reset_index(drop=True).drop(0).reset_index(drop=True)\n",
        "    Y2 = FOREX_Low.reset_index(drop=True).drop(0).reset_index(drop=True)\n",
        "    Y3 = FOREX_Close.reset_index(drop=True).drop(0).reset_index(drop=True)\n",
        "    X1 = XAUUSD_Close.reset_index(drop=True).drop(len(XAUUSD_Close)-1).reset_index(drop=True)\n",
        "    X2 = WTIUSD_Close.reset_index(drop=True).drop(len(XAUUSD_Close)-1).reset_index(drop=True)\n",
        "    X3 = STOCK1_Close.reset_index(drop=True).drop(len(STOCK1_Close)-1).reset_index(drop=True)\n",
        "    X4 = STOCK2_Close.reset_index(drop=True).drop(len(STOCK2_Close)-1).reset_index(drop=True)\n",
        "    x =   inde_variable = pd.DataFrame({'X1':X1,'X2':X2,'X3':X3,'X4':X4})\n",
        "    Indicator = 'None'\n",
        "    SARIMAX = 'None'\n",
        "    if len(Y1) == len(Y2) == len(Y3) == len(X1) == len(X2) == len(X3) == len(X4):  \n",
        "      if EMA(Y3,A) == PSAR(Y1,Y2) == RSI(Y3,B) == WPR(Y1,Y2,Y3,C): Indicator = EMA(Y3,A)\n",
        "      else: Indicator = 'Sideway'\n",
        "      if Indicator != 'Sideway':\n",
        "        for i in order(Y3, freq):\n",
        "          Max = {}\n",
        "          prec = precision(Y3, x, i[0],i[1])\n",
        "          Max[prec[0]] = [i[0], i[1], prec[1], prec[2]]\n",
        "        if max(Max.keys()) == 0:\n",
        "          return 'Sideway'\n",
        "        else:\n",
        "          para = Max[max(Max.keys())]\n",
        "          MODEL = statsmodels.tsa.statespace.sarimax.SARIMAX(endog=Y3,exog=x,order=para[0],seasonal_order=para[1],initialization='approximate_diffuse')\n",
        "          forecast = MODEL.fit().forecast(1, exog =x[-1:].values.tolist()).values[0]\n",
        "          real = Y3[-1:].values[0]\n",
        "          if forecast > real:\n",
        "            if forecast + para[2] > real: SARIMAX = 'Up'\n",
        "            else: SARIMAX = 'Sideway'\n",
        "          if forecast < real:\n",
        "            if forecast + para[3] < real: SARIMAX = 'Down'\n",
        "            else: SARIMAX = 'Sideway'\n",
        "          if SARIMAX != 'Sideway':\n",
        "            if SARIMAX == Indicator: return Indicator\n",
        "            else: return 'Sideway'\n",
        "          else: return 'Sideway'\n",
        "      else: return 'Sideway'\n",
        "    else: return 'The data size must be the same.'\n",
        "  else: return 'Not enough data.'"
      ]
    }
  ],
  "metadata": {
    "colab": {
      "collapsed_sections": [
        "Q1UmneQgYHew",
        "vsaS5e-WbvwG",
        "rBDh57YtbvwH",
        "Mqik31Y41gjW",
        "95hCXH3qfqgx",
        "y1kftrp-_FtK",
        "NeclZKmc_YeI",
        "5xBVn-63_YeK",
        "CgCvJ_RD_YeR",
        "tXOPW8qIlSfD",
        "5Nrp4CZCvkUG"
      ],
      "name": "Algorithm.ipynb",
      "provenance": [],
      "toc_visible": true,
      "mount_file_id": "1xugsFUSbrOOLfpsiLYzjrNnAF_-icaQa",
      "authorship_tag": "ABX9TyPPTeEer5vtRAPDNuARIGZx",
      "include_colab_link": true
    },
    "kernelspec": {
      "display_name": "Python 3",
      "name": "python3"
    },
    "language_info": {
      "name": "python"
    }
  },
  "nbformat": 4,
  "nbformat_minor": 0
}